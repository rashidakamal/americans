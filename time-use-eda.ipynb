{
 "cells": [
  {
   "cell_type": "markdown",
   "metadata": {},
   "source": [
    "# American Time Use Data"
   ]
  },
  {
   "cell_type": "markdown",
   "metadata": {},
   "source": [
    "Ah, the pleasures of getting data from other people. Other people who may assume you have access to proprietary software like SPSS or SAS. "
   ]
  },
  {
   "cell_type": "code",
   "execution_count": 1,
   "metadata": {
    "collapsed": true
   },
   "outputs": [],
   "source": [
    "import pandas as pd\n",
    "import numpy as np\n",
    "import re"
   ]
  },
  {
   "cell_type": "code",
   "execution_count": 2,
   "metadata": {
    "collapsed": false
   },
   "outputs": [],
   "source": [
    "f = open(\"data/columns.txt\")\n",
    "\n",
    "colnames = []\n",
    "colspecs = []\n",
    "for line in f:\n",
    "    match = (re.match(r'\\s+(\\w+)\\s+(\\d+)-(\\d+)', line)).groups(0)\n",
    "    colnames.append(match[0])\n",
    "    colrange = []\n",
    "    colrange.append(int(match[1]))\n",
    "    colrange.append(int(match[2]))\n",
    "    col_tuple = tuple(colrange)\n",
    "    colspecs.append(col_tuple)\n",
    "\n",
    "f.close()"
   ]
  },
  {
   "cell_type": "code",
   "execution_count": 3,
   "metadata": {
    "collapsed": false
   },
   "outputs": [],
   "source": [
    "doc = []\n",
    "for line in open(\"data/atus_00001.dat\", 'r'):\n",
    "    item = line.rstrip() # strip off newline and any other trailing whitespace\n",
    "    itemlist = []\n",
    "    for a,b in colspecs:\n",
    "        itemlist.append( item[a:b] )\n",
    "    doc.append(itemlist)"
   ]
  },
  {
   "cell_type": "code",
   "execution_count": 4,
   "metadata": {
    "collapsed": true
   },
   "outputs": [],
   "source": [
    "df = pd.DataFrame(doc, columns=colnames)"
   ]
  },
  {
   "cell_type": "code",
   "execution_count": 5,
   "metadata": {
    "collapsed": false
   },
   "outputs": [
    {
     "data": {
      "text/html": [
       "<div>\n",
       "<table border=\"1\" class=\"dataframe\">\n",
       "  <thead>\n",
       "    <tr style=\"text-align: right;\">\n",
       "      <th></th>\n",
       "      <th>CASEID</th>\n",
       "      <th>YEAR</th>\n",
       "      <th>PERNUM</th>\n",
       "      <th>LINENO</th>\n",
       "      <th>DATE</th>\n",
       "      <th>WT06</th>\n",
       "      <th>AGE</th>\n",
       "      <th>SEX</th>\n",
       "      <th>RACE</th>\n",
       "      <th>MARST</th>\n",
       "      <th>...</th>\n",
       "      <th>BLS_SOCIAL_SOCSERV</th>\n",
       "      <th>BLS_SOCIAL_TRAVEL</th>\n",
       "      <th>BLS_SOCIAL_VOL</th>\n",
       "      <th>BLS_SOCIAL_VOLACT</th>\n",
       "      <th>BLS_WORK</th>\n",
       "      <th>BLS_WORK_OTHER</th>\n",
       "      <th>BLS_WORK_SEARCH</th>\n",
       "      <th>BLS_WORK_TRAVEL</th>\n",
       "      <th>BLS_WORK_WORKING</th>\n",
       "      <th>BLS_WORK_WORKREL</th>\n",
       "    </tr>\n",
       "  </thead>\n",
       "  <tbody>\n",
       "    <tr>\n",
       "      <th>0</th>\n",
       "      <td>0030100013280</td>\n",
       "      <td>2003</td>\n",
       "      <td>1</td>\n",
       "      <td>01</td>\n",
       "      <td>20030103</td>\n",
       "      <td>155462.672158000</td>\n",
       "      <td>60</td>\n",
       "      <td>1</td>\n",
       "      <td>110</td>\n",
       "      <td>1</td>\n",
       "      <td>...</td>\n",
       "      <td>000</td>\n",
       "      <td>000</td>\n",
       "      <td>000</td>\n",
       "      <td>000</td>\n",
       "      <td>000</td>\n",
       "      <td>000</td>\n",
       "      <td>000</td>\n",
       "      <td>000</td>\n",
       "      <td>000</td>\n",
       "      <td>000</td>\n",
       "    </tr>\n",
       "    <tr>\n",
       "      <th>1</th>\n",
       "      <td>0030100013344</td>\n",
       "      <td>2003</td>\n",
       "      <td>1</td>\n",
       "      <td>01</td>\n",
       "      <td>20030104</td>\n",
       "      <td>735322.527819000</td>\n",
       "      <td>41</td>\n",
       "      <td>2</td>\n",
       "      <td>100</td>\n",
       "      <td>1</td>\n",
       "      <td>...</td>\n",
       "      <td>000</td>\n",
       "      <td>000</td>\n",
       "      <td>000</td>\n",
       "      <td>000</td>\n",
       "      <td>000</td>\n",
       "      <td>000</td>\n",
       "      <td>000</td>\n",
       "      <td>000</td>\n",
       "      <td>000</td>\n",
       "      <td>000</td>\n",
       "    </tr>\n",
       "    <tr>\n",
       "      <th>2</th>\n",
       "      <td>0030100013352</td>\n",
       "      <td>2003</td>\n",
       "      <td>1</td>\n",
       "      <td>01</td>\n",
       "      <td>20030104</td>\n",
       "      <td>830527.482672000</td>\n",
       "      <td>26</td>\n",
       "      <td>2</td>\n",
       "      <td>100</td>\n",
       "      <td>2</td>\n",
       "      <td>...</td>\n",
       "      <td>000</td>\n",
       "      <td>000</td>\n",
       "      <td>000</td>\n",
       "      <td>000</td>\n",
       "      <td>000</td>\n",
       "      <td>000</td>\n",
       "      <td>000</td>\n",
       "      <td>000</td>\n",
       "      <td>000</td>\n",
       "      <td>000</td>\n",
       "    </tr>\n",
       "    <tr>\n",
       "      <th>3</th>\n",
       "      <td>0030100013848</td>\n",
       "      <td>2003</td>\n",
       "      <td>1</td>\n",
       "      <td>01</td>\n",
       "      <td>20030102</td>\n",
       "      <td>622022.995205000</td>\n",
       "      <td>36</td>\n",
       "      <td>2</td>\n",
       "      <td>110</td>\n",
       "      <td>1</td>\n",
       "      <td>...</td>\n",
       "      <td>000</td>\n",
       "      <td>000</td>\n",
       "      <td>000</td>\n",
       "      <td>000</td>\n",
       "      <td>120</td>\n",
       "      <td>000</td>\n",
       "      <td>120</td>\n",
       "      <td>000</td>\n",
       "      <td>000</td>\n",
       "      <td>000</td>\n",
       "    </tr>\n",
       "    <tr>\n",
       "      <th>4</th>\n",
       "      <td>0030100014165</td>\n",
       "      <td>2003</td>\n",
       "      <td>1</td>\n",
       "      <td>01</td>\n",
       "      <td>20030109</td>\n",
       "      <td>068387.344956000</td>\n",
       "      <td>51</td>\n",
       "      <td>1</td>\n",
       "      <td>100</td>\n",
       "      <td>1</td>\n",
       "      <td>...</td>\n",
       "      <td>000</td>\n",
       "      <td>000</td>\n",
       "      <td>000</td>\n",
       "      <td>000</td>\n",
       "      <td>515</td>\n",
       "      <td>000</td>\n",
       "      <td>000</td>\n",
       "      <td>015</td>\n",
       "      <td>500</td>\n",
       "      <td>000</td>\n",
       "    </tr>\n",
       "  </tbody>\n",
       "</table>\n",
       "<p>5 rows × 126 columns</p>\n",
       "</div>"
      ],
      "text/plain": [
       "          CASEID  YEAR PERNUM LINENO      DATE              WT06 AGE SEX RACE  \\\n",
       "0  0030100013280  2003      1     01  20030103  155462.672158000  60   1  110   \n",
       "1  0030100013344  2003      1     01  20030104  735322.527819000  41   2  100   \n",
       "2  0030100013352  2003      1     01  20030104  830527.482672000  26   2  100   \n",
       "3  0030100013848  2003      1     01  20030102  622022.995205000  36   2  110   \n",
       "4  0030100014165  2003      1     01  20030109  068387.344956000  51   1  100   \n",
       "\n",
       "  MARST       ...        BLS_SOCIAL_SOCSERV BLS_SOCIAL_TRAVEL BLS_SOCIAL_VOL  \\\n",
       "0     1       ...                       000               000            000   \n",
       "1     1       ...                       000               000            000   \n",
       "2     2       ...                       000               000            000   \n",
       "3     1       ...                       000               000            000   \n",
       "4     1       ...                       000               000            000   \n",
       "\n",
       "  BLS_SOCIAL_VOLACT BLS_WORK BLS_WORK_OTHER BLS_WORK_SEARCH BLS_WORK_TRAVEL  \\\n",
       "0               000      000            000             000             000   \n",
       "1               000      000            000             000             000   \n",
       "2               000      000            000             000             000   \n",
       "3               000      120            000             120             000   \n",
       "4               000      515            000             000             015   \n",
       "\n",
       "  BLS_WORK_WORKING BLS_WORK_WORKREL  \n",
       "0              000              000  \n",
       "1              000              000  \n",
       "2              000              000  \n",
       "3              000              000  \n",
       "4              500              000  \n",
       "\n",
       "[5 rows x 126 columns]"
      ]
     },
     "execution_count": 5,
     "metadata": {},
     "output_type": "execute_result"
    }
   ],
   "source": [
    "df.head()"
   ]
  },
  {
   "cell_type": "code",
   "execution_count": 6,
   "metadata": {
    "collapsed": false
   },
   "outputs": [
    {
     "data": {
      "text/plain": [
       "(170842, 126)"
      ]
     },
     "execution_count": 6,
     "metadata": {},
     "output_type": "execute_result"
    }
   ],
   "source": [
    "df.shape"
   ]
  },
  {
   "cell_type": "markdown",
   "metadata": {},
   "source": [
    "Sublime Text's multiline cursor, amirite?"
   ]
  },
  {
   "cell_type": "code",
   "execution_count": 7,
   "metadata": {
    "collapsed": false
   },
   "outputs": [],
   "source": [
    "race_dict = {\n",
    "        \"0100\" : \"White only\",\n",
    "    \"0110\" : \"Black only\",\n",
    "    \"0120\" : \"American Indian, Alaskan Native\",\n",
    "    \"0130\" : \"Asian or Pacific Islander\",\n",
    "    \"0131\" : \"Asian only\",\n",
    "    \"0132\" : \"Hawaiian Pacific Islander only\",\n",
    "    \"0200\" : \"White-Black\",\n",
    "    \"0201\" : \"White-American Indian\",\n",
    "    \"0202\" : \"White-Asian\",\n",
    "    \"0203\" : \"White-Hawaiian\",\n",
    "    \"0210\" : \"Black-American Indian\",\n",
    "    \"0211\" : \"Black-Asian\",\n",
    "    \"0212\" : \"Black-Hawaiian\",\n",
    "    \"0220\" : \"American Indian-Asian\",\n",
    "    \"0221\" : \"American Indian-Hawaiian\",\n",
    "    \"0230\" : \"Asian-Hawaiian\",\n",
    "    \"0300\" : \"White-Black-American Indian\",\n",
    "    \"0301\" : \"White-Black-Asian\",\n",
    "    \"0302\" : \"White-Black-Hawaiian\",\n",
    "    \"0310\" : \"White-American Indian-Asian\",\n",
    "    \"0311\" : \"White-American Indian-Hawaiian\",\n",
    "    \"0320\" : \"White-Asian-Hawaiian\",\n",
    "    \"0330\" : \"Black-American Indian-Asian\",\n",
    "    \"0331\" : \"Black-American Indian-Hawaiian\",\n",
    "    \"0340\" : \"Black-Asian-Hawaiian\",\n",
    "    \"0350\" : \"American Indian-Asian-Hawaiian\",\n",
    "    \"0398\" : \"Other 3 race combinations\",\n",
    "    \"0399\" : \"2 or 3 races, unspecified\",\n",
    "    \"0400\" : \"White-Black-American Indian-Asian\",\n",
    "    \"0401\" : \"White-Black-American Indian-Hawaiian\",\n",
    "    \"0402\" : \"White-Black-Asian-Hawaiian\",\n",
    "    \"0403\" : \"Black-American Indian-Asian-Hawaiian\",\n",
    "    \"0404\" : \"White-American Indian-Asian-Hawaiian\",\n",
    "    \"0500\" : \"White-Black-American Indian-Asian-Hawaiian\",\n",
    "    \"0599\" : \"4 or 5 races, unspecified\",\n",
    "    \"9999\" : \"NIU (Not in universe)\"\n",
    "}"
   ]
  },
  {
   "cell_type": "code",
   "execution_count": 8,
   "metadata": {
    "collapsed": true
   },
   "outputs": [],
   "source": [
    "marriage_dict = {\n",
    "        \"01\" : \"Married - spouse present\",\n",
    "    \"02\" : \"Married - spouse absent\",\n",
    "    \"03\" : \"Widowed\",\n",
    "    \"04\" : \"Divorced\",\n",
    "    \"05\" : \"Separated\",\n",
    "    \"06\" : \"Never married\",\n",
    "    \"99\" : \"NIU (Not in universe)\"\n",
    "}"
   ]
  },
  {
   "cell_type": "code",
   "execution_count": 9,
   "metadata": {
    "collapsed": true
   },
   "outputs": [],
   "source": [
    "citizenship_dict = {\n",
    "        \"001\" : \"Native, born in United States\",\n",
    "    \"002\" : \"Native, born in Puerto Rico or U.S. Outlying Area\",\n",
    "    \"003\" : \"Native, born abroad of American parent or parents\",\n",
    "    \"004\" : \"Foreign born, U.S. citizen by naturalization\",\n",
    "    \"005\" : \"Foreign born, not a U.S. citizen\",\n",
    "    \"999\" : \"NIU (Not in universe)\"\n",
    "}"
   ]
  },
  {
   "cell_type": "code",
   "execution_count": 10,
   "metadata": {
    "collapsed": true
   },
   "outputs": [],
   "source": [
    "genhealth_dict = {\n",
    "        \"01\" : \"Excellent\",\n",
    "    \"02\" : \"Very good\",\n",
    "    \"03\" : \"Good\",\n",
    "    \"04\" : \"Fair\",\n",
    "    \"05\" : \"Poor\",\n",
    "    \"96\" : \"Refused\",\n",
    "    \"97\" : \"Don't know\",\n",
    "    \"99\" : \"NIU (Not in universe)\"\n",
    "}"
   ]
  },
  {
   "cell_type": "code",
   "execution_count": 11,
   "metadata": {
    "collapsed": true
   },
   "outputs": [],
   "source": [
    "edu_dict = {\n",
    "        \"010\" : \"Less than 1st grade\",\n",
    "    \"011\" : \"1st, 2nd, 3rd, or 4th grade\",\n",
    "    \"012\" : \"5th or 6th grade\",\n",
    "    \"013\" : \"7th or 8th grade\",\n",
    "    \"014\" : \"9th grade\",\n",
    "    \"015\" : \"10th grade\",\n",
    "    \"016\" : \"11th grade\",\n",
    "    \"017\" : \"12th grade - no diploma\",\n",
    "    \"020\" : \"High school graduate - GED\",\n",
    "    \"021\" : \"High school graduate - diploma\",\n",
    "    \"030\" : \"Some college but no degree\",\n",
    "    \"031\" : \"Associate degree - occupational vocational\",\n",
    "    \"032\" : \"Associate degree - academic program\",\n",
    "    \"040\" : \"Bachelor's degree (BA, AB, BS, etc.)\",\n",
    "    \"041\" : \"Master's degree (MA, MS, MEng, MEd, MSW, etc.)\",\n",
    "    \"042\" : \"Professional school degree (MD, DDS, DVM, etc.)\",\n",
    "    \"043\" : \"Doctoral degree (PhD, EdD, etc.)\",\n",
    "    \"999\" : \"NIU (Not in universe)\"\n",
    "}"
   ]
  },
  {
   "cell_type": "code",
   "execution_count": 12,
   "metadata": {
    "collapsed": true
   },
   "outputs": [],
   "source": [
    "eduyears_dict = {\n",
    "        \"100\" : \"Grades 1-12\",\n",
    "    \"101\" : \"Less than first grade\",\n",
    "    \"102\" : \"First through fourth grade\",\n",
    "    \"105\" : \"Fifth through sixth grade\",\n",
    "    \"107\" : \"Seventh through eighth grade\",\n",
    "    \"109\" : \"Ninth grade\",\n",
    "    \"110\" : \"Tenth grade\",\n",
    "    \"111\" : \"Eleventh grade\",\n",
    "    \"112\" : \"Twelfth grade\",\n",
    "    \"200\" : \"College\",\n",
    "    \"213\" : \"College--one year\",\n",
    "    \"214\" : \"College--two years\",\n",
    "    \"215\" : \"College--three years\",\n",
    "    \"216\" : \"College--four years\",\n",
    "    \"217\" : \"Bachelor's degree\",\n",
    "    \"300\" : \"Advanced degree\",\n",
    "    \"316\" : \"Master's degree\",\n",
    "    \"317\" : \"Master's degree--one year program\",\n",
    "    \"318\" : \"Master's degree--two year program\",\n",
    "    \"319\" : \"Master's degree--three+ year program\",\n",
    "    \"320\" : \"Professional degree\",\n",
    "    \"321\" : \"Doctoral degree\",\n",
    "    \"999\" : \"NIU (Not in universe)\"\n",
    "}"
   ]
  },
  {
   "cell_type": "code",
   "execution_count": 13,
   "metadata": {
    "collapsed": true
   },
   "outputs": [],
   "source": [
    "schlcoll_dict = {\n",
    "        \"01\" : \"Not enrolled\",\n",
    "    \"02\" : \"High school part time\",\n",
    "    \"03\" : \"High school full time\",\n",
    "    \"04\" : \"College/university part time\",\n",
    "    \"05\" : \"College/university full time\",\n",
    "    \"96\" : \"Refused\",\n",
    "    \"99\" : \"NIU (Not in universe)\"\n",
    "}"
   ]
  },
  {
   "cell_type": "code",
   "execution_count": 14,
   "metadata": {
    "collapsed": true
   },
   "outputs": [],
   "source": [
    "schlcoll_cpsb_dict = {\n",
    "        \"01\" : \"Not enrolled\",\n",
    "    \"02\" : \"High school part time\",\n",
    "    \"03\" : \"High school full time\",\n",
    "    \"04\" : \"College/university part time\",\n",
    "    \"05\" : \"College/university full time\",\n",
    "    \"98\" : \"Blank\",\n",
    "    \"99\" : \"NIU (Not in universe)\"\n",
    "}"
   ]
  },
  {
   "cell_type": "code",
   "execution_count": 15,
   "metadata": {
    "collapsed": true
   },
   "outputs": [],
   "source": [
    "employment_dict = {\n",
    "        \"01\" : \"Employed - at work\",\n",
    "    \"02\" : \"Employed - absent\",\n",
    "    \"03\" : \"Unemployed - on layoff\",\n",
    "    \"04\" : \"Unemployed - looking\",\n",
    "    \"05\" : \"Not in labor force\",\n",
    "    \"99\" : \"NIU (Not in universe)\"\n",
    "}"
   ]
  },
  {
   "cell_type": "code",
   "execution_count": 16,
   "metadata": {
    "collapsed": true
   },
   "outputs": [],
   "source": [
    "classworker_dict = {\n",
    "        \"01\" : \"Government, federal\",\n",
    "    \"02\" : \"Government, state\",\n",
    "    \"03\" : \"Government, local\",\n",
    "    \"04\" : \"Private, for profit\",\n",
    "    \"05\" : \"Private, nonprofit\",\n",
    "    \"06\" : \"Self-employed, incorporated\",\n",
    "    \"07\" : \"Self-employed, unincorporated\",\n",
    "    \"08\" : \"Without pay\",\n",
    "    \"99\" : \"NIU (Not in universe)\"\n",
    "}"
   ]
  },
  {
   "cell_type": "code",
   "execution_count": 17,
   "metadata": {
    "collapsed": true
   },
   "outputs": [],
   "source": [
    "occupation_dict = {\n",
    "    \"0110\" : \"Management occupations\",\n",
    "    \"0111\" : \"Business and financial operations occupations\",\n",
    "    \"0120\" : \"Computer and mathematical science occupations\",\n",
    "    \"0121\" : \"Architecture and engineering occupations\",\n",
    "    \"0122\" : \"Life, physical, and social science occupations\",\n",
    "    \"0123\" : \"Community and social service occupations\",\n",
    "    \"0124\" : \"Legal occupations\",\n",
    "    \"0125\" : \"Education, training, and library occupations\",\n",
    "    \"0126\" : \"Arts, design, entertainment, sports, and media occupations\",\n",
    "    \"0127\" : \"Healthcare practitioner and technical occupations\",\n",
    "    \"0130\" : \"Healthcare support occupations\",\n",
    "    \"0131\" : \"Protective service occupations\",\n",
    "    \"0132\" : \"Food preparation and serving related occupations\",\n",
    "    \"0133\" : \"Building and grounds cleaning and maintenance occupations\",\n",
    "    \"0134\" : \"Personal care and service occupations\",\n",
    "    \"0140\" : \"Sales and related occupations\",\n",
    "    \"0150\" : \"Office and administrative support occupations\",\n",
    "    \"0160\" : \"Farming, fishing, and forestry occupations\",\n",
    "    \"0170\" : \"Construction and extraction occupations\",\n",
    "    \"0180\" : \"Installation, maintenance, and repair occupations\",\n",
    "    \"0190\" : \"Production occupations\",\n",
    "    \"0200\" : \"Transportation and material moving occupations\",\n",
    "    \"9999\" : \"NIU (Not in universe)\"\n",
    "}"
   ]
  },
  {
   "cell_type": "code",
   "execution_count": 19,
   "metadata": {
    "collapsed": false
   },
   "outputs": [
    {
     "data": {
      "text/plain": [
       "Index(['CASEID', 'YEAR', 'PERNUM', 'LINENO', 'DATE', 'WT06', 'AGE', 'SEX',\n",
       "       'RACE', 'MARST',\n",
       "       ...\n",
       "       'BLS_SOCIAL_SOCSERV', 'BLS_SOCIAL_TRAVEL', 'BLS_SOCIAL_VOL',\n",
       "       'BLS_SOCIAL_VOLACT', 'BLS_WORK', 'BLS_WORK_OTHER', 'BLS_WORK_SEARCH',\n",
       "       'BLS_WORK_TRAVEL', 'BLS_WORK_WORKING', 'BLS_WORK_WORKREL'],\n",
       "      dtype='object', length=126)"
      ]
     },
     "execution_count": 19,
     "metadata": {},
     "output_type": "execute_result"
    }
   ],
   "source": [
    "df.columns"
   ]
  },
  {
   "cell_type": "code",
   "execution_count": 21,
   "metadata": {
    "collapsed": false,
    "scrolled": true
   },
   "outputs": [
    {
     "data": {
      "text/plain": [
       "1    84179\n",
       "6    41327\n",
       "4    23105\n",
       "3    15046\n",
       "5     4710\n",
       "2     2475\n",
       "Name: MARST, dtype: int64"
      ]
     },
     "execution_count": 21,
     "metadata": {},
     "output_type": "execute_result"
    }
   ],
   "source": [
    "df[\"MARST\"].value_counts()"
   ]
  },
  {
   "cell_type": "markdown",
   "metadata": {},
   "source": [
    "# On average, how many hours Americans sleep...."
   ]
  },
  {
   "cell_type": "code",
   "execution_count": 38,
   "metadata": {
    "collapsed": false,
    "scrolled": true
   },
   "outputs": [
    {
     "data": {
      "text/plain": [
       "8.716413508778091"
      ]
     },
     "execution_count": 38,
     "metadata": {},
     "output_type": "execute_result"
    }
   ],
   "source": [
    "df[\"BLS_PCARE_SLEEP\"].astype(int).mean() / 60"
   ]
  },
  {
   "cell_type": "markdown",
   "metadata": {},
   "source": [
    "# Sleep by marital status"
   ]
  },
  {
   "cell_type": "code",
   "execution_count": 37,
   "metadata": {
    "collapsed": false,
    "scrolled": true
   },
   "outputs": [],
   "source": [
    "married = df[df[\"MARST\"] == \"1\"]\n",
    "married_longdist = df[df[\"MARST\"] == \"2\"]\n",
    "widowed = df[df[\"MARST\"] == \"3\"]\n",
    "divorced = df[df[\"MARST\"] == \"4\"]\n",
    "separated = df[df[\"MARST\"] == \"5\"]\n",
    "single = df[df[\"MARST\"] == \"6\"]\n"
   ]
  },
  {
   "cell_type": "code",
   "execution_count": 34,
   "metadata": {
    "collapsed": false
   },
   "outputs": [
    {
     "data": {
      "text/plain": [
       "8.5393142391015964"
      ]
     },
     "execution_count": 34,
     "metadata": {},
     "output_type": "execute_result"
    }
   ],
   "source": [
    "married[\"BLS_PCARE_SLEEP\"].astype(int).mean() / 60"
   ]
  },
  {
   "cell_type": "code",
   "execution_count": 39,
   "metadata": {
    "collapsed": false
   },
   "outputs": [
    {
     "data": {
      "text/plain": [
       "8.6060802135179983"
      ]
     },
     "execution_count": 39,
     "metadata": {},
     "output_type": "execute_result"
    }
   ],
   "source": [
    "divorced[\"BLS_PCARE_SLEEP\"].astype(int).mean() / 60"
   ]
  },
  {
   "cell_type": "code",
   "execution_count": 40,
   "metadata": {
    "collapsed": false
   },
   "outputs": [
    {
     "data": {
      "text/plain": [
       "8.8152689313517349"
      ]
     },
     "execution_count": 40,
     "metadata": {},
     "output_type": "execute_result"
    }
   ],
   "source": [
    "separated[\"BLS_PCARE_SLEEP\"].astype(int).mean() / 60"
   ]
  },
  {
   "cell_type": "code",
   "execution_count": 36,
   "metadata": {
    "collapsed": false
   },
   "outputs": [
    {
     "data": {
      "text/plain": [
       "8.8472457912457916"
      ]
     },
     "execution_count": 36,
     "metadata": {},
     "output_type": "execute_result"
    }
   ],
   "source": [
    "married_longdist[\"BLS_PCARE_SLEEP\"].astype(int).mean() / 60"
   ]
  },
  {
   "cell_type": "code",
   "execution_count": 41,
   "metadata": {
    "collapsed": false
   },
   "outputs": [
    {
     "data": {
      "text/plain": [
       "8.9169856883335559"
      ]
     },
     "execution_count": 41,
     "metadata": {},
     "output_type": "execute_result"
    }
   ],
   "source": [
    "widowed[\"BLS_PCARE_SLEEP\"].astype(int).mean() / 60"
   ]
  },
  {
   "cell_type": "code",
   "execution_count": 31,
   "metadata": {
    "collapsed": false
   },
   "outputs": [
    {
     "data": {
      "text/plain": [
       "9.0467075600293594"
      ]
     },
     "execution_count": 31,
     "metadata": {},
     "output_type": "execute_result"
    }
   ],
   "source": [
    "single[\"BLS_PCARE_SLEEP\"].astype(int).mean() / 60"
   ]
  },
  {
   "cell_type": "markdown",
   "metadata": {},
   "source": [
    "# What might be interesting to check out:\n",
    "\n",
    "+ BLS_LEIS_SPORT : Sports, Exercise, and Recreation\n",
    "+ BLS_LEIS_SOCCOM : Socializing & Communicating \n",
    "+ BLS_LEIS_SOC : Socializing, Relaxing, and Leisure\n",
    "+ BLS_LEIS : Socializing, Relaxing, and Leisure,Sports, Exercise, and Recreation, related travel \n",
    "+ BLS_HHACT_PET: Animals & pets\n",
    "+ BLS_HHACT_LAWN : Lawn, Garden, and Houseplants \n",
    "+ BLS_HHACT_FOOD : Food and Drink Preparation, Presentation, and Clean-up \n",
    "+ BLS_HHACT : Household Activities\n",
    "+ BLS_LEIS_TV : TV & Movies \n",
    "+ BLS_SOCIAL_VOL : Volunteer Activities \n",
    "+ BLS_SOCIAL_CIVIC : Civic Obligations & Participation \n",
    "+ BLS_WORK : Work & work-related specifications \n",
    "+ BLS_WORK_OTHER : Other Income-Generating Activities\n",
    "+ BLS_WORK_SEARCH : Job Search and Interviewing\n",
    "+ BLS_WORK_WORKREL : Work-Related Activities\n",
    "\n",
    "\n",
    " EMPSTAT\t\tLabor force status\n",
    "01\t\tEmployed - at work\n",
    "02\t\tEmployed - absent\n",
    "03\t\tUnemployed - on layoff\n",
    "04\t\tUnemployed - looking\n",
    "05\t\tNot in labor force\n",
    "99\t\tNIU (Not in universe)\n",
    "\n",
    "\n",
    " EDUC\t\tHighest level of school completed\n",
    "\t\tLess than HS diploma\n",
    "010\t\tLess than 1st grade\n",
    "011\t\t1st, 2nd, 3rd, or 4th grade\n",
    "012\t\t5th or 6th grade\n",
    "013\t\t7th or 8th grade\n",
    "014\t\t9th grade\n",
    "015\t\t10th grade\n",
    "016\t\t11th grade\n",
    "017\t\t12th grade - no diploma\n",
    "\t\tHS diploma, no college\n",
    "020\t\tHigh school graduate - GED\n",
    "021\t\tHigh school graduate - diploma\n",
    "\t\tSome college\n",
    "030\t\tSome college but no degree\n",
    "031\t\tAssociate degree - occupational vocational\n",
    "032\t\tAssociate degree - academic program\n",
    "\t\tCollege degree +\n",
    "040\t\tBachelor's degree (BA, AB, BS, etc.)\n",
    "041\t\tMaster's degree (MA, MS, MEng, MEd, MSW, etc.)\n",
    "042\t\tProfessional school degree (MD, DDS, DVM, etc.)\n",
    "043\t\tDoctoral degree (PhD, EdD, etc.)\n",
    "999\t\tNIU (Not in universe)"
   ]
  },
  {
   "cell_type": "code",
   "execution_count": 47,
   "metadata": {
    "collapsed": false
   },
   "outputs": [
    {
     "name": "stdout",
     "output_type": "stream",
     "text": [
      "SINGLE PEOPLE: 9.04670756003\n",
      "_____\n",
      "DIVORCED PEOPLE: 8.60608021352\n",
      "_____\n",
      "WIDOWED PEOPLE: 8.91698568833\n",
      "_____\n",
      "SEPARATED PEOPLE: 8.81526893135\n",
      "_____\n",
      "MARRIED LONGDIST PEOPLE: 8.84724579125\n",
      "_____\n",
      "MARRIED PEOPLE: 8.5393142391\n"
     ]
    }
   ],
   "source": [
    "print(\"SINGLE PEOPLE:\", single[\"BLS_PCARE_SLEEP\"].astype(int).mean() / 60)\n",
    "print(\"_____\")\n",
    "print(\"DIVORCED PEOPLE:\", divorced[\"BLS_PCARE_SLEEP\"].astype(int).mean() / 60)\n",
    "print(\"_____\")\n",
    "print(\"WIDOWED PEOPLE:\", widowed[\"BLS_PCARE_SLEEP\"].astype(int).mean() / 60)\n",
    "print(\"_____\")\n",
    "print(\"SEPARATED PEOPLE:\", separated[\"BLS_PCARE_SLEEP\"].astype(int).mean() / 60)\n",
    "print(\"_____\")\n",
    "print(\"MARRIED LONGDIST PEOPLE:\", married_longdist[\"BLS_PCARE_SLEEP\"].astype(int).mean() / 60)\n",
    "print(\"_____\")\n",
    "print(\"MARRIED PEOPLE:\", married[\"BLS_PCARE_SLEEP\"].astype(int).mean() / 60)"
   ]
  },
  {
   "cell_type": "markdown",
   "metadata": {},
   "source": [
    "# BLS_LEIS_SPORT : Sports, Exercise, and Recreation (in minutes)"
   ]
  },
  {
   "cell_type": "code",
   "execution_count": 50,
   "metadata": {
    "collapsed": false
   },
   "outputs": [
    {
     "name": "stdout",
     "output_type": "stream",
     "text": [
      "SINGLE PEOPLE: 26.593897452\n",
      "_____\n",
      "DIVORCED PEOPLE: 16.3897857607\n",
      "_____\n",
      "WIDOWED PEOPLE: 10.8919314103\n",
      "_____\n",
      "SEPARATED PEOPLE: 13.4630573248\n",
      "_____\n",
      "MARRIED LONGDIST PEOPLE: 16.6424242424\n",
      "_____\n",
      "MARRIED PEOPLE: 19.0421126409\n"
     ]
    }
   ],
   "source": [
    "print(\"SINGLE PEOPLE:\", single[\"BLS_LEIS_SPORT\"].astype(int).mean())\n",
    "print(\"_____\")\n",
    "print(\"DIVORCED PEOPLE:\", divorced[\"BLS_LEIS_SPORT\"].astype(int).mean())\n",
    "print(\"_____\")\n",
    "print(\"WIDOWED PEOPLE:\", widowed[\"BLS_LEIS_SPORT\"].astype(int).mean())\n",
    "print(\"_____\")\n",
    "print(\"SEPARATED PEOPLE:\", separated[\"BLS_LEIS_SPORT\"].astype(int).mean())\n",
    "print(\"_____\")\n",
    "print(\"MARRIED LONGDIST PEOPLE:\", married_longdist[\"BLS_LEIS_SPORT\"].astype(int).mean())\n",
    "print(\"_____\")\n",
    "print(\"MARRIED PEOPLE:\", married[\"BLS_LEIS_SPORT\"].astype(int).mean())"
   ]
  },
  {
   "cell_type": "markdown",
   "metadata": {},
   "source": [
    "# BLS_LEIS_SOCCOM : Socializing & Communicating "
   ]
  },
  {
   "cell_type": "code",
   "execution_count": 51,
   "metadata": {
    "collapsed": false
   },
   "outputs": [
    {
     "name": "stdout",
     "output_type": "stream",
     "text": [
      "SINGLE PEOPLE: 52.4066590849\n",
      "_____\n",
      "DIVORCED PEOPLE: 44.8703743778\n",
      "_____\n",
      "WIDOWED PEOPLE: 48.9110062475\n",
      "_____\n",
      "SEPARATED PEOPLE: 47.9630573248\n",
      "_____\n",
      "MARRIED LONGDIST PEOPLE: 49.5854545455\n",
      "_____\n",
      "MARRIED PEOPLE: 48.0118081707\n"
     ]
    }
   ],
   "source": [
    "print(\"SINGLE PEOPLE:\", single[\"BLS_LEIS_SOCCOM\"].astype(int).mean())\n",
    "print(\"_____\")\n",
    "print(\"DIVORCED PEOPLE:\", divorced[\"BLS_LEIS_SOCCOM\"].astype(int).mean())\n",
    "print(\"_____\")\n",
    "print(\"WIDOWED PEOPLE:\", widowed[\"BLS_LEIS_SOCCOM\"].astype(int).mean())\n",
    "print(\"_____\")\n",
    "print(\"SEPARATED PEOPLE:\", separated[\"BLS_LEIS_SOCCOM\"].astype(int).mean())\n",
    "print(\"_____\")\n",
    "print(\"MARRIED LONGDIST PEOPLE:\", married_longdist[\"BLS_LEIS_SOCCOM\"].astype(int).mean())\n",
    "print(\"_____\")\n",
    "print(\"MARRIED PEOPLE:\", married[\"BLS_LEIS_SOCCOM\"].astype(int).mean())"
   ]
  },
  {
   "cell_type": "markdown",
   "metadata": {},
   "source": [
    "# BLS_HHACT_PET: Animals & pets"
   ]
  },
  {
   "cell_type": "code",
   "execution_count": 52,
   "metadata": {
    "collapsed": false
   },
   "outputs": [
    {
     "name": "stdout",
     "output_type": "stream",
     "text": [
      "SINGLE PEOPLE: 4.66733612408\n",
      "_____\n",
      "DIVORCED PEOPLE: 7.11685782298\n",
      "_____\n",
      "WIDOWED PEOPLE: 7.03834906287\n",
      "_____\n",
      "SEPARATED PEOPLE: 4.14946921444\n",
      "_____\n",
      "MARRIED LONGDIST PEOPLE: 4.45373737374\n",
      "_____\n",
      "MARRIED PEOPLE: 5.28471471507\n"
     ]
    }
   ],
   "source": [
    "print(\"SINGLE PEOPLE:\", single[\"BLS_HHACT_PET\"].astype(int).mean())\n",
    "print(\"_____\")\n",
    "print(\"DIVORCED PEOPLE:\", divorced[\"BLS_HHACT_PET\"].astype(int).mean())\n",
    "print(\"_____\")\n",
    "print(\"WIDOWED PEOPLE:\", widowed[\"BLS_HHACT_PET\"].astype(int).mean())\n",
    "print(\"_____\")\n",
    "print(\"SEPARATED PEOPLE:\", separated[\"BLS_HHACT_PET\"].astype(int).mean())\n",
    "print(\"_____\")\n",
    "print(\"MARRIED LONGDIST PEOPLE:\", married_longdist[\"BLS_HHACT_PET\"].astype(int).mean())\n",
    "print(\"_____\")\n",
    "print(\"MARRIED PEOPLE:\", married[\"BLS_HHACT_PET\"].astype(int).mean())"
   ]
  },
  {
   "cell_type": "markdown",
   "metadata": {},
   "source": [
    "# BLS_HHACT : Household Activities"
   ]
  },
  {
   "cell_type": "code",
   "execution_count": 54,
   "metadata": {
    "collapsed": false
   },
   "outputs": [
    {
     "name": "stdout",
     "output_type": "stream",
     "text": [
      "SINGLE PEOPLE: 1.37408594865\n",
      "_____\n",
      "DIVORCED PEOPLE: 2.09083387434\n",
      "_____\n",
      "WIDOWED PEOPLE: 2.40516748638\n",
      "_____\n",
      "SEPARATED PEOPLE: 1.99970276008\n",
      "_____\n",
      "MARRIED LONGDIST PEOPLE: 1.9829023569\n",
      "_____\n",
      "MARRIED PEOPLE: 2.31258766042\n"
     ]
    }
   ],
   "source": [
    "print(\"SINGLE PEOPLE:\", single[\"BLS_HHACT\"].astype(int).mean() / 60)\n",
    "print(\"_____\")\n",
    "print(\"DIVORCED PEOPLE:\", divorced[\"BLS_HHACT\"].astype(int).mean() / 60)\n",
    "print(\"_____\")\n",
    "print(\"WIDOWED PEOPLE:\", widowed[\"BLS_HHACT\"].astype(int).mean() / 60)\n",
    "print(\"_____\")\n",
    "print(\"SEPARATED PEOPLE:\", separated[\"BLS_HHACT\"].astype(int).mean() / 60)\n",
    "print(\"_____\")\n",
    "print(\"MARRIED LONGDIST PEOPLE:\", married_longdist[\"BLS_HHACT\"].astype(int).mean() / 60)\n",
    "print(\"_____\")\n",
    "print(\"MARRIED PEOPLE:\", married[\"BLS_HHACT\"].astype(int).mean() / 60)"
   ]
  },
  {
   "cell_type": "markdown",
   "metadata": {},
   "source": [
    "# BLS_LEIS_TV : TV & Movies \n"
   ]
  },
  {
   "cell_type": "code",
   "execution_count": 55,
   "metadata": {
    "collapsed": false
   },
   "outputs": [
    {
     "name": "stdout",
     "output_type": "stream",
     "text": [
      "SINGLE PEOPLE: 2.77161944169\n",
      "_____\n",
      "DIVORCED PEOPLE: 3.15803217197\n",
      "_____\n",
      "WIDOWED PEOPLE: 3.96086999867\n",
      "_____\n",
      "SEPARATED PEOPLE: 3.16067940552\n",
      "_____\n",
      "MARRIED LONGDIST PEOPLE: 2.74465993266\n",
      "_____\n",
      "MARRIED PEOPLE: 2.53301140031\n"
     ]
    }
   ],
   "source": [
    "print(\"SINGLE PEOPLE:\", single[\"BLS_LEIS_TV\"].astype(int).mean() / 60)\n",
    "print(\"_____\")\n",
    "print(\"DIVORCED PEOPLE:\", divorced[\"BLS_LEIS_TV\"].astype(int).mean() / 60)\n",
    "print(\"_____\")\n",
    "print(\"WIDOWED PEOPLE:\", widowed[\"BLS_LEIS_TV\"].astype(int).mean() / 60)\n",
    "print(\"_____\")\n",
    "print(\"SEPARATED PEOPLE:\", separated[\"BLS_LEIS_TV\"].astype(int).mean() / 60)\n",
    "print(\"_____\")\n",
    "print(\"MARRIED LONGDIST PEOPLE:\", married_longdist[\"BLS_LEIS_TV\"].astype(int).mean() / 60)\n",
    "print(\"_____\")\n",
    "print(\"MARRIED PEOPLE:\", married[\"BLS_LEIS_TV\"].astype(int).mean() / 60)"
   ]
  },
  {
   "cell_type": "markdown",
   "metadata": {},
   "source": [
    "# BLS_SOCIAL_VOL : Volunteer Activities \n"
   ]
  },
  {
   "cell_type": "code",
   "execution_count": 57,
   "metadata": {
    "collapsed": false
   },
   "outputs": [
    {
     "name": "stdout",
     "output_type": "stream",
     "text": [
      "SINGLE PEOPLE: 7.22220340213\n",
      "_____\n",
      "DIVORCED PEOPLE: 7.98515472841\n",
      "_____\n",
      "WIDOWED PEOPLE: 11.3043998405\n",
      "_____\n",
      "SEPARATED PEOPLE: 6.42908704883\n",
      "_____\n",
      "MARRIED LONGDIST PEOPLE: 5.77858585859\n",
      "_____\n",
      "MARRIED PEOPLE: 11.4396583471\n"
     ]
    }
   ],
   "source": [
    "print(\"SINGLE PEOPLE:\", single[\"BLS_SOCIAL_VOL\"].astype(int).mean())\n",
    "print(\"_____\")\n",
    "print(\"DIVORCED PEOPLE:\", divorced[\"BLS_SOCIAL_VOL\"].astype(int).mean())\n",
    "print(\"_____\")\n",
    "print(\"WIDOWED PEOPLE:\", widowed[\"BLS_SOCIAL_VOL\"].astype(int).mean())\n",
    "print(\"_____\")\n",
    "print(\"SEPARATED PEOPLE:\", separated[\"BLS_SOCIAL_VOL\"].astype(int).mean())\n",
    "print(\"_____\")\n",
    "print(\"MARRIED LONGDIST PEOPLE:\", married_longdist[\"BLS_SOCIAL_VOL\"].astype(int).mean())\n",
    "print(\"_____\")\n",
    "print(\"MARRIED PEOPLE:\", married[\"BLS_SOCIAL_VOL\"].astype(int).mean())"
   ]
  },
  {
   "cell_type": "markdown",
   "metadata": {},
   "source": [
    "# BLS_SOCIAL_CIVIC : Civic Obligations & Participation \n"
   ]
  },
  {
   "cell_type": "code",
   "execution_count": 58,
   "metadata": {
    "collapsed": false
   },
   "outputs": [
    {
     "name": "stdout",
     "output_type": "stream",
     "text": [
      "SINGLE PEOPLE: 0.144651196554\n",
      "_____\n",
      "DIVORCED PEOPLE: 0.104436269206\n",
      "_____\n",
      "WIDOWED PEOPLE: 0.0784261597767\n",
      "_____\n",
      "SEPARATED PEOPLE: 0.128237791932\n",
      "_____\n",
      "MARRIED LONGDIST PEOPLE: 0.0222222222222\n",
      "_____\n",
      "MARRIED PEOPLE: 0.0901531260766\n"
     ]
    }
   ],
   "source": [
    "print(\"SINGLE PEOPLE:\", single[\"BLS_SOCIAL_CIVIC\"].astype(int).mean())\n",
    "print(\"_____\")\n",
    "print(\"DIVORCED PEOPLE:\", divorced[\"BLS_SOCIAL_CIVIC\"].astype(int).mean())\n",
    "print(\"_____\")\n",
    "print(\"WIDOWED PEOPLE:\", widowed[\"BLS_SOCIAL_CIVIC\"].astype(int).mean())\n",
    "print(\"_____\")\n",
    "print(\"SEPARATED PEOPLE:\", separated[\"BLS_SOCIAL_CIVIC\"].astype(int).mean())\n",
    "print(\"_____\")\n",
    "print(\"MARRIED LONGDIST PEOPLE:\", married_longdist[\"BLS_SOCIAL_CIVIC\"].astype(int).mean())\n",
    "print(\"_____\")\n",
    "print(\"MARRIED PEOPLE:\", married[\"BLS_SOCIAL_CIVIC\"].astype(int).mean())"
   ]
  },
  {
   "cell_type": "markdown",
   "metadata": {},
   "source": [
    "# BLS_WORK : Work & work-related specifications \n"
   ]
  },
  {
   "cell_type": "code",
   "execution_count": 61,
   "metadata": {
    "collapsed": false
   },
   "outputs": [
    {
     "name": "stdout",
     "output_type": "stream",
     "text": [
      "SINGLE PEOPLE: 2.87481468935\n",
      "_____\n",
      "DIVORCED PEOPLE: 3.03318329366\n",
      "_____\n",
      "WIDOWED PEOPLE: 0.839269573309\n",
      "_____\n",
      "SEPARATED PEOPLE: 2.98141896674\n",
      "_____\n",
      "MARRIED LONGDIST PEOPLE: 3.1023973064\n",
      "_____\n",
      "MARRIED PEOPLE: 3.11323568428\n"
     ]
    }
   ],
   "source": [
    "print(\"SINGLE PEOPLE:\", single[\"BLS_WORK\"].astype(int).mean() / 60)\n",
    "print(\"_____\")\n",
    "print(\"DIVORCED PEOPLE:\", divorced[\"BLS_WORK\"].astype(int).mean() / 60)\n",
    "print(\"_____\")\n",
    "print(\"WIDOWED PEOPLE:\", widowed[\"BLS_WORK\"].astype(int).mean() / 60)\n",
    "print(\"_____\")\n",
    "print(\"SEPARATED PEOPLE:\", separated[\"BLS_WORK\"].astype(int).mean() / 60)\n",
    "print(\"_____\")\n",
    "print(\"MARRIED LONGDIST PEOPLE:\", married_longdist[\"BLS_WORK\"].astype(int).mean() / 60)\n",
    "print(\"_____\")\n",
    "print(\"MARRIED PEOPLE:\", married[\"BLS_WORK\"].astype(int).mean() / 60)"
   ]
  },
  {
   "cell_type": "code",
   "execution_count": 63,
   "metadata": {
    "collapsed": true
   },
   "outputs": [],
   "source": [
    "def conv_int(x):\n",
    "    return int(x)"
   ]
  },
  {
   "cell_type": "code",
   "execution_count": 65,
   "metadata": {
    "collapsed": false
   },
   "outputs": [
    {
     "ename": "DataError",
     "evalue": "No numeric types to aggregate",
     "output_type": "error",
     "traceback": [
      "\u001b[0;31m---------------------------------------------------------------------------\u001b[0m",
      "\u001b[0;31mDataError\u001b[0m                                 Traceback (most recent call last)",
      "\u001b[0;32m<ipython-input-65-ff1a38b7218a>\u001b[0m in \u001b[0;36m<module>\u001b[0;34m()\u001b[0m\n\u001b[0;32m----> 1\u001b[0;31m \u001b[0mmarried\u001b[0m\u001b[0;34m.\u001b[0m\u001b[0mgroupby\u001b[0m\u001b[0;34m(\u001b[0m\u001b[0;34m\"YEAR\"\u001b[0m\u001b[0;34m)\u001b[0m\u001b[0;34m[\u001b[0m\u001b[0;34m\"BLS_WORK\"\u001b[0m\u001b[0;34m]\u001b[0m\u001b[0;34m.\u001b[0m\u001b[0mmean\u001b[0m\u001b[0;34m(\u001b[0m\u001b[0;34m)\u001b[0m \u001b[0;34m/\u001b[0m \u001b[0;36m60\u001b[0m\u001b[0;34m\u001b[0m\u001b[0m\n\u001b[0m",
      "\u001b[0;32m/Users/rashida/.virtualenvs/class/lib/python3.5/site-packages/pandas/core/groupby.py\u001b[0m in \u001b[0;36mmean\u001b[0;34m(self)\u001b[0m\n\u001b[1;32m    962\u001b[0m         \"\"\"\n\u001b[1;32m    963\u001b[0m         \u001b[0;32mtry\u001b[0m\u001b[0;34m:\u001b[0m\u001b[0;34m\u001b[0m\u001b[0m\n\u001b[0;32m--> 964\u001b[0;31m             \u001b[0;32mreturn\u001b[0m \u001b[0mself\u001b[0m\u001b[0;34m.\u001b[0m\u001b[0m_cython_agg_general\u001b[0m\u001b[0;34m(\u001b[0m\u001b[0;34m'mean'\u001b[0m\u001b[0;34m)\u001b[0m\u001b[0;34m\u001b[0m\u001b[0m\n\u001b[0m\u001b[1;32m    965\u001b[0m         \u001b[0;32mexcept\u001b[0m \u001b[0mGroupByError\u001b[0m\u001b[0;34m:\u001b[0m\u001b[0;34m\u001b[0m\u001b[0m\n\u001b[1;32m    966\u001b[0m             \u001b[0;32mraise\u001b[0m\u001b[0;34m\u001b[0m\u001b[0m\n",
      "\u001b[0;32m/Users/rashida/.virtualenvs/class/lib/python3.5/site-packages/pandas/core/groupby.py\u001b[0m in \u001b[0;36m_cython_agg_general\u001b[0;34m(self, how, numeric_only)\u001b[0m\n\u001b[1;32m    763\u001b[0m \u001b[0;34m\u001b[0m\u001b[0m\n\u001b[1;32m    764\u001b[0m         \u001b[0;32mif\u001b[0m \u001b[0mlen\u001b[0m\u001b[0;34m(\u001b[0m\u001b[0moutput\u001b[0m\u001b[0;34m)\u001b[0m \u001b[0;34m==\u001b[0m \u001b[0;36m0\u001b[0m\u001b[0;34m:\u001b[0m\u001b[0;34m\u001b[0m\u001b[0m\n\u001b[0;32m--> 765\u001b[0;31m             \u001b[0;32mraise\u001b[0m \u001b[0mDataError\u001b[0m\u001b[0;34m(\u001b[0m\u001b[0;34m'No numeric types to aggregate'\u001b[0m\u001b[0;34m)\u001b[0m\u001b[0;34m\u001b[0m\u001b[0m\n\u001b[0m\u001b[1;32m    766\u001b[0m \u001b[0;34m\u001b[0m\u001b[0m\n\u001b[1;32m    767\u001b[0m         \u001b[0;32mreturn\u001b[0m \u001b[0mself\u001b[0m\u001b[0;34m.\u001b[0m\u001b[0m_wrap_aggregated_output\u001b[0m\u001b[0;34m(\u001b[0m\u001b[0moutput\u001b[0m\u001b[0;34m,\u001b[0m \u001b[0mnames\u001b[0m\u001b[0;34m)\u001b[0m\u001b[0;34m\u001b[0m\u001b[0m\n",
      "\u001b[0;31mDataError\u001b[0m: No numeric types to aggregate"
     ]
    }
   ],
   "source": [
    "married.groupby(\"YEAR\")[\"BLS_WORK\"].mean() / 60"
   ]
  },
  {
   "cell_type": "code",
   "execution_count": 66,
   "metadata": {
    "collapsed": true
   },
   "outputs": [],
   "source": [
    "df[\"BLS_WORK_INT\"] = df[\"BLS_WORK\"].apply(conv_int)"
   ]
  },
  {
   "cell_type": "code",
   "execution_count": 67,
   "metadata": {
    "collapsed": true
   },
   "outputs": [],
   "source": [
    "df[\"BLS_WORK_OTHER_INT\"] = df[\"BLS_WORK_OTHER\"].apply(conv_int)"
   ]
  },
  {
   "cell_type": "code",
   "execution_count": 68,
   "metadata": {
    "collapsed": true
   },
   "outputs": [],
   "source": [
    "df[\"BLS_WORK_SEARCH_INT\"] = df[\"BLS_WORK_SEARCH\"].apply(conv_int)"
   ]
  },
  {
   "cell_type": "code",
   "execution_count": 71,
   "metadata": {
    "collapsed": false
   },
   "outputs": [
    {
     "data": {
      "text/plain": [
       "YEAR\n",
       "2003    173.189044\n",
       "2004    169.969441\n",
       "2005    174.412640\n",
       "2006    172.511782\n",
       "2007    179.661659\n",
       "2008    174.218188\n",
       "2009    166.244727\n",
       "2010    167.288612\n",
       "2011    169.824906\n",
       "2012    165.278148\n",
       "2013    165.764690\n",
       "2014    168.273896\n",
       "2015    166.516277\n",
       "Name: BLS_WORK_INT, dtype: float64"
      ]
     },
     "execution_count": 71,
     "metadata": {},
     "output_type": "execute_result"
    }
   ],
   "source": [
    "df.groupby(\"YEAR\")[\"BLS_WORK_INT\"].mean()"
   ]
  },
  {
   "cell_type": "code",
   "execution_count": 72,
   "metadata": {
    "collapsed": false
   },
   "outputs": [
    {
     "data": {
      "text/plain": [
       "YEAR\n",
       "2003    1.680985\n",
       "2004    1.560366\n",
       "2005    1.578310\n",
       "2006    1.509233\n",
       "2007    1.747551\n",
       "2008    1.674291\n",
       "2009    1.591183\n",
       "2010    2.112670\n",
       "2011    1.993669\n",
       "2012    1.505023\n",
       "2013    1.178656\n",
       "2014    1.309524\n",
       "2015    1.264649\n",
       "Name: BLS_WORK_OTHER_INT, dtype: float64"
      ]
     },
     "execution_count": 72,
     "metadata": {},
     "output_type": "execute_result"
    }
   ],
   "source": [
    "df.groupby(\"YEAR\")[\"BLS_WORK_OTHER_INT\"].mean()"
   ]
  },
  {
   "cell_type": "code",
   "execution_count": 73,
   "metadata": {
    "collapsed": false
   },
   "outputs": [
    {
     "data": {
      "text/plain": [
       "YEAR\n",
       "2003    1.260183\n",
       "2004    1.017176\n",
       "2005    0.918776\n",
       "2006    1.084293\n",
       "2007    1.024984\n",
       "2008    1.574157\n",
       "2009    1.961319\n",
       "2010    2.245626\n",
       "2011    2.028528\n",
       "2012    1.941734\n",
       "2013    1.864559\n",
       "2014    1.698930\n",
       "2015    1.191105\n",
       "Name: BLS_WORK_SEARCH_INT, dtype: float64"
      ]
     },
     "execution_count": 73,
     "metadata": {},
     "output_type": "execute_result"
    }
   ],
   "source": [
    "df.groupby(\"YEAR\")[\"BLS_WORK_SEARCH_INT\"].mean()"
   ]
  },
  {
   "cell_type": "code",
   "execution_count": 75,
   "metadata": {
    "collapsed": false
   },
   "outputs": [],
   "source": [
    "employed = df[ (df[\"EMPSTAT\"] == \"1\") | (df[\"EMPSTAT\"] == \"2\")]"
   ]
  },
  {
   "cell_type": "code",
   "execution_count": 77,
   "metadata": {
    "collapsed": false
   },
   "outputs": [],
   "source": [
    "unemployed = df[ (df[\"EMPSTAT\"] == \"3\") | (df[\"EMPSTAT\"] == \"4\")]"
   ]
  },
  {
   "cell_type": "markdown",
   "metadata": {},
   "source": [
    "# Employed Folks at work and looking for jobs"
   ]
  },
  {
   "cell_type": "code",
   "execution_count": 79,
   "metadata": {
    "collapsed": false
   },
   "outputs": [
    {
     "data": {
      "text/plain": [
       "YEAR\n",
       "2003    4.415758\n",
       "2004    4.418422\n",
       "2005    4.416517\n",
       "2006    4.453354\n",
       "2007    4.592080\n",
       "2008    4.433504\n",
       "2009    4.393377\n",
       "2010    4.501376\n",
       "2011    4.619340\n",
       "2012    4.502244\n",
       "2013    4.535426\n",
       "2014    4.597051\n",
       "2015    4.459148\n",
       "Name: BLS_WORK_INT, dtype: float64"
      ]
     },
     "execution_count": 79,
     "metadata": {},
     "output_type": "execute_result"
    }
   ],
   "source": [
    "employed.groupby(\"YEAR\")[\"BLS_WORK_INT\"].mean() / 60"
   ]
  },
  {
   "cell_type": "code",
   "execution_count": 84,
   "metadata": {
    "collapsed": false
   },
   "outputs": [
    {
     "data": {
      "text/plain": [
       "YEAR\n",
       "2003    1.611610\n",
       "2004    1.051250\n",
       "2005    1.228946\n",
       "2006    1.239030\n",
       "2007    1.604077\n",
       "2008    1.430605\n",
       "2009    1.318182\n",
       "2010    1.647213\n",
       "2011    1.631277\n",
       "2012    1.415016\n",
       "2013    0.862544\n",
       "2014    0.820023\n",
       "2015    0.946740\n",
       "Name: BLS_WORK_OTHER_INT, dtype: float64"
      ]
     },
     "execution_count": 84,
     "metadata": {},
     "output_type": "execute_result"
    }
   ],
   "source": [
    "employed.groupby(\"YEAR\")[\"BLS_WORK_OTHER_INT\"].mean()"
   ]
  },
  {
   "cell_type": "code",
   "execution_count": 85,
   "metadata": {
    "collapsed": false,
    "scrolled": false
   },
   "outputs": [
    {
     "data": {
      "text/plain": [
       "YEAR\n",
       "2003    0.510412\n",
       "2004    0.316212\n",
       "2005    0.387238\n",
       "2006    0.345091\n",
       "2007    0.320081\n",
       "2008    0.667802\n",
       "2009    0.584257\n",
       "2010    0.525751\n",
       "2011    0.667601\n",
       "2012    0.377141\n",
       "2013    0.730803\n",
       "2014    0.683281\n",
       "2015    0.545129\n",
       "Name: BLS_WORK_SEARCH_INT, dtype: float64"
      ]
     },
     "execution_count": 85,
     "metadata": {},
     "output_type": "execute_result"
    }
   ],
   "source": [
    "employed.groupby(\"YEAR\")[\"BLS_WORK_SEARCH_INT\"].mean()"
   ]
  },
  {
   "cell_type": "markdown",
   "metadata": {},
   "source": [
    "# Unemployed folks at work and looking for jobs"
   ]
  },
  {
   "cell_type": "code",
   "execution_count": 97,
   "metadata": {
    "collapsed": false,
    "scrolled": true
   },
   "outputs": [
    {
     "data": {
      "text/plain": [
       "YEAR\n",
       "2003    0.503000\n",
       "2004    0.457077\n",
       "2005    0.454554\n",
       "2006    0.548927\n",
       "2007    0.447810\n",
       "2008    0.516756\n",
       "2009    0.534769\n",
       "2010    0.584034\n",
       "2011    0.590829\n",
       "2012    0.590355\n",
       "2013    0.568289\n",
       "2014    0.597525\n",
       "2015    0.505193\n",
       "Name: BLS_WORK_INT, dtype: float64"
      ]
     },
     "execution_count": 97,
     "metadata": {},
     "output_type": "execute_result"
    }
   ],
   "source": [
    "unemployed.groupby(\"YEAR\")[\"BLS_WORK_INT\"].mean() / 60"
   ]
  },
  {
   "cell_type": "code",
   "execution_count": 98,
   "metadata": {
    "collapsed": false,
    "scrolled": true
   },
   "outputs": [
    {
     "data": {
      "text/plain": [
       "YEAR\n",
       "2003    1.611610\n",
       "2004    1.051250\n",
       "2005    1.228946\n",
       "2006    1.239030\n",
       "2007    1.604077\n",
       "2008    1.430605\n",
       "2009    1.318182\n",
       "2010    1.647213\n",
       "2011    1.631277\n",
       "2012    1.415016\n",
       "2013    0.862544\n",
       "2014    0.820023\n",
       "2015    0.946740\n",
       "Name: BLS_WORK_OTHER_INT, dtype: float64"
      ]
     },
     "execution_count": 98,
     "metadata": {},
     "output_type": "execute_result"
    }
   ],
   "source": [
    "employed.groupby(\"YEAR\")[\"BLS_WORK_OTHER_INT\"].mean()"
   ]
  },
  {
   "cell_type": "code",
   "execution_count": 99,
   "metadata": {
    "collapsed": false
   },
   "outputs": [
    {
     "data": {
      "text/plain": [
       "YEAR\n",
       "2003    0.510412\n",
       "2004    0.316212\n",
       "2005    0.387238\n",
       "2006    0.345091\n",
       "2007    0.320081\n",
       "2008    0.667802\n",
       "2009    0.584257\n",
       "2010    0.525751\n",
       "2011    0.667601\n",
       "2012    0.377141\n",
       "2013    0.730803\n",
       "2014    0.683281\n",
       "2015    0.545129\n",
       "Name: BLS_WORK_SEARCH_INT, dtype: float64"
      ]
     },
     "execution_count": 99,
     "metadata": {},
     "output_type": "execute_result"
    }
   ],
   "source": [
    "employed.groupby(\"YEAR\")[\"BLS_WORK_SEARCH_INT\"].mean()"
   ]
  },
  {
   "cell_type": "markdown",
   "metadata": {},
   "source": [
    "# Activities by Year"
   ]
  },
  {
   "cell_type": "code",
   "execution_count": 87,
   "metadata": {
    "collapsed": true
   },
   "outputs": [],
   "source": [
    "df[\"BLS_LEIS_SOC_INT\"] = df[\"BLS_LEIS_SOC\"].apply(conv_int)\n",
    "df[\"BLS_HHACT_INT\"] = df[\"BLS_HHACT\"].apply(conv_int)\n",
    "df[\"BLS_LEIS_TV_INT\"] = df[\"BLS_LEIS_TV\"].apply(conv_int)\n",
    "df[\"BLS_SOCIAL_VOL_INT\"] = df[\"BLS_SOCIAL_VOL\"].apply(conv_int)\n",
    "df[\"BLS_SOCIAL_CIVIC_INT\"] = df[\"BLS_SOCIAL_CIVIC\"].apply(conv_int)\n"
   ]
  },
  {
   "cell_type": "code",
   "execution_count": 90,
   "metadata": {
    "collapsed": false
   },
   "outputs": [
    {
     "data": {
      "text/plain": [
       "YEAR\n",
       "2003    4.746146\n",
       "2004    4.867170\n",
       "2005    4.715883\n",
       "2006    4.729115\n",
       "2007    4.731993\n",
       "2008    4.853566\n",
       "2009    4.908328\n",
       "2010    4.793379\n",
       "2011    4.883762\n",
       "2012    4.987302\n",
       "2013    4.980176\n",
       "2014    4.995642\n",
       "2015    4.909161\n",
       "Name: BLS_LEIS_SOC_INT, dtype: float64"
      ]
     },
     "execution_count": 90,
     "metadata": {},
     "output_type": "execute_result"
    }
   ],
   "source": [
    "# Average amount of time people spend socializing\n",
    "df.groupby(\"YEAR\")[\"BLS_LEIS_SOC_INT\"].mean() / 60"
   ]
  },
  {
   "cell_type": "code",
   "execution_count": 91,
   "metadata": {
    "collapsed": false
   },
   "outputs": [
    {
     "data": {
      "text/plain": [
       "YEAR\n",
       "2003    2.097416\n",
       "2004    2.086126\n",
       "2005    2.106356\n",
       "2006    2.080515\n",
       "2007    2.077184\n",
       "2008    2.020168\n",
       "2009    2.044269\n",
       "2010    1.998384\n",
       "2011    2.013021\n",
       "2012    2.008227\n",
       "2013    1.988305\n",
       "2014    2.011133\n",
       "2015    2.084733\n",
       "Name: BLS_HHACT_INT, dtype: float64"
      ]
     },
     "execution_count": 91,
     "metadata": {},
     "output_type": "execute_result"
    }
   ],
   "source": [
    "# Average amount of time people spend on household activities\n",
    "df.groupby(\"YEAR\")[\"BLS_HHACT_INT\"].mean() / 60"
   ]
  },
  {
   "cell_type": "code",
   "execution_count": 92,
   "metadata": {
    "collapsed": false
   },
   "outputs": [
    {
     "data": {
      "text/plain": [
       "YEAR\n",
       "2003    2.662111\n",
       "2004    2.729668\n",
       "2005    2.622327\n",
       "2006    2.686094\n",
       "2007    2.726085\n",
       "2008    2.887747\n",
       "2009    2.908079\n",
       "2010    2.856826\n",
       "2011    2.908398\n",
       "2012    2.977440\n",
       "2013    2.957084\n",
       "2014    2.970099\n",
       "2015    2.944772\n",
       "Name: BLS_LEIS_TV_INT, dtype: float64"
      ]
     },
     "execution_count": 92,
     "metadata": {},
     "output_type": "execute_result"
    }
   ],
   "source": [
    "# Average amount of time people spend watching tv or movies\n",
    "df.groupby(\"YEAR\")[\"BLS_LEIS_TV_INT\"].mean() / 60"
   ]
  },
  {
   "cell_type": "code",
   "execution_count": 95,
   "metadata": {
    "collapsed": false
   },
   "outputs": [
    {
     "data": {
      "text/plain": [
       "YEAR\n",
       "2003     8.978571\n",
       "2004     9.766407\n",
       "2005     9.950606\n",
       "2006     9.331067\n",
       "2007    10.232283\n",
       "2008    10.011318\n",
       "2009     9.953324\n",
       "2010    10.357391\n",
       "2011     9.953602\n",
       "2012     9.363096\n",
       "2013     9.420817\n",
       "2014     9.489303\n",
       "2015     9.984411\n",
       "Name: BLS_SOCIAL_VOL_INT, dtype: float64"
      ]
     },
     "execution_count": 95,
     "metadata": {},
     "output_type": "execute_result"
    }
   ],
   "source": [
    "# Average amount of time people spend on volunteer activities\n",
    "df.groupby(\"YEAR\")[\"BLS_SOCIAL_VOL_INT\"].mean()"
   ]
  },
  {
   "cell_type": "code",
   "execution_count": null,
   "metadata": {
    "collapsed": true
   },
   "outputs": [],
   "source": []
  }
 ],
 "metadata": {
  "kernelspec": {
   "display_name": "Python 3",
   "language": "python",
   "name": "python3"
  },
  "language_info": {
   "codemirror_mode": {
    "name": "ipython",
    "version": 3
   },
   "file_extension": ".py",
   "mimetype": "text/x-python",
   "name": "python",
   "nbconvert_exporter": "python",
   "pygments_lexer": "ipython3",
   "version": "3.5.0"
  }
 },
 "nbformat": 4,
 "nbformat_minor": 0
}
